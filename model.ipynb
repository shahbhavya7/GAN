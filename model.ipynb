{
 "cells": [
  {
   "cell_type": "markdown",
   "id": "2ff49906",
   "metadata": {},
   "source": [
    "## Import Dependencies and Data"
   ]
  },
  {
   "cell_type": "code",
   "execution_count": 1,
   "id": "5fcab7ee",
   "metadata": {},
   "outputs": [],
   "source": [
    "# Bringing in tensorflow\n",
    "import tensorflow as tf\n",
    "gpus = tf.config.experimental.list_physical_devices('GPU')\n",
    "for gpu in gpus: \n",
    "    tf.config.experimental.set_memory_growth(gpu, True)"
   ]
  },
  {
   "cell_type": "code",
   "execution_count": 4,
   "id": "5bef7c56",
   "metadata": {},
   "outputs": [
    {
     "name": "stdout",
     "output_type": "stream",
     "text": [
      "Num GPUs Available:  1\n",
      "GPUs:  [PhysicalDevice(name='/physical_device:GPU:0', device_type='GPU')]\n"
     ]
    }
   ],
   "source": [
    "gpus = tf.config.experimental.list_physical_devices('GPU')\n",
    "print(\"Num GPUs Available: \", len(gpus))\n",
    "print(\"GPUs: \", gpus)"
   ]
  },
  {
   "cell_type": "code",
   "execution_count": 6,
   "id": "f17f8365",
   "metadata": {},
   "outputs": [],
   "source": [
    "import tensorflow_datasets as tfds\n",
    "from matplotlib import pyplot as plt\n"
   ]
  },
  {
   "cell_type": "code",
   "execution_count": 7,
   "id": "e0279c88",
   "metadata": {},
   "outputs": [
    {
     "name": "stdout",
     "output_type": "stream",
     "text": [
      "\u001b[1mDownloading and preparing dataset Unknown size (download: Unknown size, generated: Unknown size, total: Unknown size) to C:\\Users\\bhavy\\tensorflow_datasets\\fashion_mnist\\3.0.1...\u001b[0m\n"
     ]
    },
    {
     "name": "stderr",
     "output_type": "stream",
     "text": [
      "Dl Completed...: 0 url [00:00, ? url/s]\n",
      "Dl Completed...:   0%|          | 0/1 [00:00<?, ? url/s]\n",
      "Dl Completed...:   0%|          | 0/2 [00:00<?, ? url/s]\n",
      "Dl Completed...:   0%|          | 0/3 [00:00<?, ? url/s]\n",
      "Dl Completed...:   0%|          | 0/4 [00:00<?, ? url/s]\n",
      "Dl Completed...:   0%|          | 0/4 [00:00<?, ? url/s]\n",
      "Dl Completed...:   0%|          | 0/4 [00:00<?, ? url/s]\n",
      "Dl Completed...:  25%|██▌       | 1/4 [00:00<00:01,  2.03 url/s]\n",
      "Dl Completed...:  25%|██▌       | 1/4 [00:00<00:01,  2.03 url/s]\n",
      "\u001b[A\n",
      "Dl Completed...:  25%|██▌       | 1/4 [00:00<00:01,  2.03 url/s]\n",
      "Dl Completed...:  25%|██▌       | 1/4 [00:00<00:01,  2.03 url/s]\n",
      "Dl Completed...:  25%|██▌       | 1/4 [00:00<00:01,  2.03 url/s]\n",
      "Dl Completed...:  50%|█████     | 2/4 [00:00<00:00,  2.93 url/s]\n",
      "Dl Completed...:  50%|█████     | 2/4 [00:00<00:00,  2.93 url/s]\n",
      "\u001b[A\n",
      "Dl Completed...:  50%|█████     | 2/4 [00:00<00:00,  2.93 url/s]\n",
      "Dl Completed...:  50%|█████     | 2/4 [00:01<00:00,  2.93 url/s]\n",
      "Dl Completed...:  50%|█████     | 2/4 [00:01<00:00,  2.93 url/s]\n",
      "Dl Completed...:  50%|█████     | 2/4 [00:01<00:00,  2.93 url/s]\n",
      "Dl Completed...:  50%|█████     | 2/4 [00:02<00:00,  2.93 url/s]\n",
      "Dl Completed...:  50%|█████     | 2/4 [00:02<00:00,  2.93 url/s]\n",
      "Dl Completed...:  50%|█████     | 2/4 [00:02<00:00,  2.93 url/s]\n",
      "Dl Completed...:  50%|█████     | 2/4 [00:02<00:00,  2.93 url/s]\n",
      "Dl Completed...:  75%|███████▌  | 3/4 [00:02<00:00,  1.06 url/s]\n",
      "Dl Completed...:  75%|███████▌  | 3/4 [00:02<00:00,  1.06 url/s]\n",
      "\u001b[A\n",
      "Dl Completed...:  75%|███████▌  | 3/4 [00:02<00:00,  1.06 url/s]\n",
      "Dl Completed...:  75%|███████▌  | 3/4 [00:02<00:00,  1.06 url/s]\n",
      "Dl Completed...:  75%|███████▌  | 3/4 [00:02<00:00,  1.06 url/s]\n",
      "Dl Completed...:  75%|███████▌  | 3/4 [00:02<00:00,  1.06 url/s]\n",
      "Dl Completed...:  75%|███████▌  | 3/4 [00:03<00:00,  1.06 url/s]\n",
      "Dl Completed...:  75%|███████▌  | 3/4 [00:03<00:00,  1.06 url/s]\n",
      "Dl Completed...:  75%|███████▌  | 3/4 [00:03<00:00,  1.06 url/s]\n",
      "Dl Completed...:  75%|███████▌  | 3/4 [00:03<00:00,  1.06 url/s]\n",
      "Dl Completed...:  75%|███████▌  | 3/4 [00:04<00:00,  1.06 url/s]\n",
      "Dl Completed...:  75%|███████▌  | 3/4 [00:04<00:00,  1.06 url/s]\n",
      "Dl Completed...:  75%|███████▌  | 3/4 [00:04<00:00,  1.06 url/s]\n",
      "Dl Completed...:  75%|███████▌  | 3/4 [00:04<00:00,  1.06 url/s]\n",
      "Dl Completed...:  75%|███████▌  | 3/4 [00:04<00:00,  1.06 url/s]\n",
      "Dl Completed...:  75%|███████▌  | 3/4 [00:04<00:00,  1.06 url/s]\n",
      "Dl Completed...:  75%|███████▌  | 3/4 [00:05<00:00,  1.06 url/s]\n",
      "Dl Completed...:  75%|███████▌  | 3/4 [00:05<00:00,  1.06 url/s]\n",
      "Dl Completed...:  75%|███████▌  | 3/4 [00:05<00:00,  1.06 url/s]\n",
      "Dl Completed...:  75%|███████▌  | 3/4 [00:05<00:00,  1.06 url/s]\n",
      "Dl Completed...:  75%|███████▌  | 3/4 [00:05<00:00,  1.06 url/s]\n",
      "Dl Completed...:  75%|███████▌  | 3/4 [00:05<00:00,  1.06 url/s]\n",
      "Dl Completed...:  75%|███████▌  | 3/4 [00:06<00:00,  1.06 url/s]\n",
      "Dl Completed...:  75%|███████▌  | 3/4 [00:06<00:00,  1.06 url/s]\n",
      "Dl Completed...:  75%|███████▌  | 3/4 [00:06<00:00,  1.06 url/s]\n",
      "Dl Completed...: 100%|██████████| 4/4 [00:06<00:00,  2.23s/ url]\n",
      "Dl Completed...: 100%|██████████| 4/4 [00:06<00:00,  2.23s/ url]\n",
      "\u001b[A\n",
      "Dl Completed...: 100%|██████████| 4/4 [00:06<00:00,  2.23s/ url]\n",
      "Extraction completed...: 100%|██████████| 4/4 [00:06<00:00,  1.71s/ file]\n",
      "Dl Size...: 100%|██████████| 29/29 [00:06<00:00,  4.23 MiB/s]\n",
      "Dl Completed...: 100%|██████████| 4/4 [00:06<00:00,  1.71s/ url]\n",
      "                                                                        \r"
     ]
    },
    {
     "name": "stdout",
     "output_type": "stream",
     "text": [
      "\u001b[1mDataset fashion_mnist downloaded and prepared to C:\\Users\\bhavy\\tensorflow_datasets\\fashion_mnist\\3.0.1. Subsequent calls will reuse this data.\u001b[0m\n"
     ]
    }
   ],
   "source": [
    "ds = tfds.load('fashion_mnist', split='train')"
   ]
  },
  {
   "cell_type": "code",
   "execution_count": null,
   "id": "85baff5f",
   "metadata": {},
   "outputs": [
    {
     "data": {
      "text/plain": [
       "dict_keys(['image', 'label'])"
      ]
     },
     "execution_count": 9,
     "metadata": {},
     "output_type": "execute_result"
    }
   ],
   "source": [
    "ds.as_numpy_iterator().next().keys() # shows the format of the data"
   ]
  },
  {
   "cell_type": "markdown",
   "id": "3724e39a",
   "metadata": {},
   "source": [
    "## Building the Data Pipeline and Visualizing the Data"
   ]
  },
  {
   "cell_type": "code",
   "execution_count": 10,
   "id": "07f90637",
   "metadata": {},
   "outputs": [],
   "source": [
    "import numpy as np"
   ]
  },
  {
   "cell_type": "code",
   "execution_count": 11,
   "id": "85f24d4a",
   "metadata": {},
   "outputs": [],
   "source": [
    "# Setup connection aka iterator\n",
    "dataiterator = ds.as_numpy_iterator() # creates an iterator object , it will go through the dataset one by one"
   ]
  },
  {
   "cell_type": "code",
   "execution_count": null,
   "id": "b689a0d0",
   "metadata": {},
   "outputs": [],
   "source": [
    "dataiterator.next()['image'] "
   ]
  },
  {
   "cell_type": "code",
   "execution_count": 14,
   "id": "47949cb6",
   "metadata": {},
   "outputs": [
    {
     "data": {
      "image/png": "[encoded data removed]",
      "text/plain": [
       "<Figure size 2000x2000 with 4 Axes>"
      ]
     },
     "metadata": {},
     "output_type": "display_data"
    }
   ],
   "source": [
    "# Setup the subplot formatting \n",
    "fig, ax = plt.subplots(ncols=4, figsize=(20,20))\n",
    "# Loop four times and get four images\n",
    "for idx in range(4):  \n",
    "    # Grab an image and label\n",
    "    sample = dataiterator.next() # gets the next image in the dataset\n",
    "    # Plot the image using a specific subplot \n",
    "    ax[idx].imshow(np.squeeze(sample['image'])) # it removes single-dimensional entries from the shape of an array i.e it converts (28,28,1) to (28,28)\n",
    "    # Appending the image label as the plot title \n",
    "    ax[idx].title.set_text(sample['label']) # the label is a number from 0-9 representing the type of clothing"
   ]
  },
  {
   "cell_type": "code",
   "execution_count": 15,
   "id": "241b7d47",
   "metadata": {},
   "outputs": [],
   "source": [
    "# Scale and return images only \n",
    "def scale_images(data): \n",
    "    image = data['image'] # grabs the image only\n",
    "    return image / 255 # scales the image to be between 0 and 1 as oposed to 0-255"
   ]
  },
  {
   "cell_type": "code",
   "execution_count": null,
   "id": "2de31205",
   "metadata": {},
   "outputs": [],
   "source": []
  }
 ],
 "metadata": {
  "kernelspec": {
   "display_name": "tf",
   "language": "python",
   "name": "python3"
  },
  "language_info": {
   "codemirror_mode": {
    "name": "ipython",
    "version": 3
   },
   "file_extension": ".py",
   "mimetype": "text/x-python",
   "name": "python",
   "nbconvert_exporter": "python",
   "pygments_lexer": "ipython3",
   "version": "3.9.23"
  }
 },
 "nbformat": 4,
 "nbformat_minor": 5
}
